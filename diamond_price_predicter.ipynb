{
  "nbformat": 4,
  "nbformat_minor": 0,
  "metadata": {
    "colab": {
      "provenance": [],
      "mount_file_id": "1fPDiREHjFXjLXtoSSaWNUt0CwwFLqaLe",
      "authorship_tag": "ABX9TyNi3s+PU4VKsP/kX9rFQJgR",
      "include_colab_link": true
    },
    "kernelspec": {
      "name": "python3",
      "display_name": "Python 3"
    },
    "language_info": {
      "name": "python"
    }
  },
  "cells": [
    {
      "cell_type": "markdown",
      "metadata": {
        "id": "view-in-github",
        "colab_type": "text"
      },
      "source": [
        "<a href=\"https://colab.research.google.com/github/tx6195/diamonds/blob/main/diamond_price_predicter.ipynb\" target=\"_parent\"><img src=\"https://colab.research.google.com/assets/colab-badge.svg\" alt=\"Open In Colab\"/></a>"
      ]
    },
    {
      "cell_type": "code",
      "execution_count": 1,
      "metadata": {
        "id": "bs3jCy0Nu0dI"
      },
      "outputs": [],
      "source": [
        "import joblib"
      ]
    },
    {
      "cell_type": "code",
      "source": [
        "model = joblib.load('/content/drive/MyDrive/diamond_price.joblib')"
      ],
      "metadata": {
        "id": "Mn_jzq9Fu61E"
      },
      "execution_count": 2,
      "outputs": []
    },
    {
      "cell_type": "code",
      "source": [
        "carat = 0.91   # up to 5\n",
        "cut = 1     # between 1 and 5\n",
        "color = 2   # between 1 and 7\n",
        "clarity = 6 # between 1 and 8\n",
        "\n",
        "data_for_prediction = [[carat, cut, color, clarity]]\n",
        "predictions = model.predict(data_for_prediction)\n",
        "print(predictions[0])\n"
      ],
      "metadata": {
        "colab": {
          "base_uri": "https://localhost:8080/"
        },
        "id": "CQUOAyMGvvmI",
        "outputId": "3519bc74-22aa-4851-988f-3ea292f6adf8"
      },
      "execution_count": 3,
      "outputs": [
        {
          "output_type": "stream",
          "name": "stdout",
          "text": [
            "4599.5684\n"
          ]
        }
      ]
    }
  ]
}